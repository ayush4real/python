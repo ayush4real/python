{
 "cells": [
  {
   "cell_type": "code",
   "execution_count": 1,
   "metadata": {},
   "outputs": [],
   "source": [
    "#avg: t- O(log(n)) | s- O(log(n))\n",
    "#worst: t- O(n) | s- O(n)\n",
    "def find_closest_bst(tree,target):\n",
    "    return find_closest_helper(tree,target,float(\"inf\"))\n",
    "\n",
    "def find_closest_helper(tree,target,closest):\n",
    "    if tree is None:\n",
    "        return closest\n",
    "    if abs(target-closest)> abs(target-tree.value):\n",
    "        closest=tree.value\n",
    "    if target<tree.value:\n",
    "        return find_closest_helper(tree.left,target,closest)\n",
    "    elif target>tree.value:\n",
    "        return find_closest_helper(tree.right,target,closest)\n",
    "    else:\n",
    "        return closest\n",
    "    \n",
    "def find_closest_bst_iter(tree,target):\n",
    "    return find_closest_helper_iter(tree,target,float(\"inf\"))\n",
    "\n",
    "#avg: t- O(log(n)) | s- O(1)\n",
    "#worst: t- O(n) | s- O(1)\n",
    "def find_closest_helper_iter(tree,target,closest):\n",
    "    cur_node=tree\n",
    "    while cur_node is not None:\n",
    "        if abs(target-closest)>abs(target-cur_node.value):\n",
    "            closest=cur_node.value\n",
    "        if target< cur_node.value:\n",
    "            cur_node=cur_node.left\n",
    "        if target>cur_node.value:\n",
    "            cur_node=cur_node.right\n",
    "        else:\n",
    "            break\n",
    "    return closest"
   ]
  },
  {
   "cell_type": "code",
   "execution_count": null,
   "metadata": {},
   "outputs": [],
   "source": []
  }
 ],
 "metadata": {
  "kernelspec": {
   "display_name": "Python 3",
   "language": "python",
   "name": "python3"
  },
  "language_info": {
   "codemirror_mode": {
    "name": "ipython",
    "version": 3
   },
   "file_extension": ".py",
   "mimetype": "text/x-python",
   "name": "python",
   "nbconvert_exporter": "python",
   "pygments_lexer": "ipython3",
   "version": "3.7.3"
  }
 },
 "nbformat": 4,
 "nbformat_minor": 2
}
