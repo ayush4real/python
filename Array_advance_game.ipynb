{
 "cells": [
  {
   "cell_type": "code",
   "execution_count": 11,
   "metadata": {},
   "outputs": [
    {
     "data": {
      "text/plain": [
       "True"
      ]
     },
     "execution_count": 11,
     "metadata": {},
     "output_type": "execute_result"
    }
   ],
   "source": [
    "def array_advance(A):\n",
    "    furthest_reached=0\n",
    "    last_idx=len(A)-1\n",
    "    i=0\n",
    "    while i<=furthest_reached and furthest_reached<last_idx:\n",
    "        furthest_reached=max(furthest_reached,A[i]+i)\n",
    "        i+=1\n",
    "        \n",
    "    return furthest_reached>=last_idx\n",
    "\n",
    "A=[3,3,0,0,1,3,3]\n",
    "array_advance(A)"
   ]
  },
  {
   "cell_type": "code",
   "execution_count": null,
   "metadata": {},
   "outputs": [],
   "source": []
  }
 ],
 "metadata": {
  "kernelspec": {
   "display_name": "Python 3",
   "language": "python",
   "name": "python3"
  },
  "language_info": {
   "codemirror_mode": {
    "name": "ipython",
    "version": 3
   },
   "file_extension": ".py",
   "mimetype": "text/x-python",
   "name": "python",
   "nbconvert_exporter": "python",
   "pygments_lexer": "ipython3",
   "version": "3.7.3"
  }
 },
 "nbformat": 4,
 "nbformat_minor": 2
}
