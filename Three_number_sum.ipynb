{
 "cells": [
  {
   "cell_type": "code",
   "execution_count": 4,
   "metadata": {},
   "outputs": [
    {
     "name": "stdout",
     "output_type": "stream",
     "text": [
      "Enter no of elements: 8\n",
      "Enter the number: \n",
      "-8\n",
      "Enter the number: \n",
      "-6\n",
      "Enter the number: \n",
      "1\n",
      "Enter the number: \n",
      "2\n",
      "Enter the number: \n",
      "3\n",
      "Enter the number: \n",
      "5\n",
      "Enter the number: \n",
      "6\n",
      "Enter the number: \n",
      "12\n",
      "Enter the target sum: 0\n",
      "[[-8, 2, 6], [-8, 3, 5], [-6, 1, 5]]\n"
     ]
    }
   ],
   "source": [
    "# t- O(n^2) | s- O(n)\n",
    "\n",
    "def threeNumberSum():\n",
    "    array=[]\n",
    "    n=int(input(\"Enter no of elements: \"))\n",
    "    for i in range(0,n):\n",
    "        print(\"Enter the number: \")\n",
    "        ele=int(input())\n",
    "        array.append(ele)\n",
    "    array=selection_sort(array)\n",
    "    target_sum=int(input(\"Enter the target sum: \"))\n",
    "    triplets=[]\n",
    "    for i in range(len(array)-2):\n",
    "        left=i+1\n",
    "        right=len(array)-1\n",
    "        while left<right:\n",
    "            current_sum=array[i]+array[left]+array[right]\n",
    "            if current_sum==target_sum:\n",
    "                triplets.append([array[i],array[left],array[right]])\n",
    "                left+=1\n",
    "                right-=1\n",
    "            elif current_sum<target_sum:\n",
    "                left+=1\n",
    "            elif current_sum>target_sum:\n",
    "                right-=1\n",
    "    return triplets\n",
    "    \n",
    "    \n",
    "def selection_sort(array):\n",
    "    currentidx=0\n",
    "    while currentidx in range(len(array)-1):\n",
    "        smallestidx=currentidx\n",
    "        for i in range(currentidx+1,len(array)):\n",
    "            if array[smallestidx]>array[i]:\n",
    "                smallestidx=i\n",
    "        swap(currentidx,smallestidx,array)\n",
    "        currentidx+=1\n",
    "    return array\n",
    "\n",
    "def swap(i,j,array):\n",
    "    array[i],array[j]=array[j],array[i]\n",
    "    \n",
    "\n",
    "print(threeNumberSum())"
   ]
  }
 ],
 "metadata": {
  "kernelspec": {
   "display_name": "Python 3",
   "language": "python",
   "name": "python3"
  },
  "language_info": {
   "codemirror_mode": {
    "name": "ipython",
    "version": 3
   },
   "file_extension": ".py",
   "mimetype": "text/x-python",
   "name": "python",
   "nbconvert_exporter": "python",
   "pygments_lexer": "ipython3",
   "version": "3.7.3"
  }
 },
 "nbformat": 4,
 "nbformat_minor": 2
}
