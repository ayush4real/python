{
 "cells": [
  {
   "cell_type": "code",
   "execution_count": 1,
   "metadata": {},
   "outputs": [],
   "source": [
    "%run Stack.ipynb"
   ]
  },
  {
   "cell_type": "code",
   "execution_count": 2,
   "metadata": {},
   "outputs": [
    {
     "name": "stdout",
     "output_type": "stream",
     "text": [
      "11110010\n"
     ]
    }
   ],
   "source": [
    "def dec_bin(dec_num):\n",
    "    s=Stack()\n",
    "    \n",
    "    while dec_num>0:\n",
    "        remainder=dec_num%2\n",
    "        s.push(remainder)\n",
    "        dec_num=dec_num//2\n",
    "        \n",
    "    bin_num=\"\"\n",
    "    while not s.is_empty():\n",
    "        bin_num+=str(s.pop())\n",
    "    \n",
    "    return bin_num\n",
    "print(dec_bin(242))"
   ]
  },
  {
   "cell_type": "code",
   "execution_count": 25,
   "metadata": {},
   "outputs": [],
   "source": [
    "class Node:\n",
    "    def __init__(self,data):\n",
    "        self.data=data\n",
    "        self.next=None\n",
    "class LinkedList:\n",
    "    def __init__(self):\n",
    "        self.head=None\n",
    "    def append(self,data):\n",
    "        new_node=Node(data)\n",
    "            \n",
    "        if self.head is None:\n",
    "            self.head= new_node\n",
    "            return\n",
    "        last_node=self.head\n",
    "        while last_node.next:\n",
    "            last_node=last_node.next\n",
    "        last_node.next=new_node\n",
    "        new_node.next=None\n",
    "        \n",
    "    def print_list(self):\n",
    "        cur_node=self.head\n",
    "        while cur_node:\n",
    "            print(cur_node.data)\n",
    "            cur_node=cur_node.next\n",
    "            \n",
    "    def insert_begin(self,data):\n",
    "        new_node=Node(data)\n",
    "        if self.head is None:\n",
    "            self.head=new_node\n",
    "        else:\n",
    "            new_node.next=self.head\n",
    "            self.head=new_node\n",
    "            \n",
    "    def insert_after_node(self,prev_node,data):\n",
    "        if not prev_node:\n",
    "            print(\"previous node not in list\")\n",
    "            return\n",
    "        new_node=Node(data)\n",
    "        new_node.next=prev_node.next\n",
    "        prev_node.next=new_node\n",
    "    \n",
    "    def delete_node(self,key):\n",
    "        cur_node=self.head\n",
    "        if cur_node and cur_node.data==key:\n",
    "            self.head=cur_node.next\n",
    "            cur_node=None\n",
    "            return\n",
    "        prev= None\n",
    "        while cur_node and cur_node.data!=key:\n",
    "            prev=cur_node\n",
    "            cur_node=cur_node.next\n",
    "            \n",
    "        if cur_node is None:\n",
    "            print(\"No such data found\")\n",
    "            return\n",
    "        prev.next=cur_node.next\n",
    "        cur_node=None        "
   ]
  },
  {
   "cell_type": "code",
   "execution_count": 28,
   "metadata": {},
   "outputs": [],
   "source": [
    "llist=LinkedList()\n",
    "llist.append(\"A\")\n",
    "llist.append(\"B\")\n",
    "llist.append(\"C\")\n",
    "llist.insert_begin(\"D\")\n",
    "llist.insert_after_node(llist.head.next.next,\"E\")\n",
    "llist.delete_node(\"C\")\n",
    "llist.delete_node(\"E\")"
   ]
  },
  {
   "cell_type": "code",
   "execution_count": 29,
   "metadata": {},
   "outputs": [
    {
     "name": "stdout",
     "output_type": "stream",
     "text": [
      "D\n",
      "A\n",
      "B\n"
     ]
    }
   ],
   "source": [
    "llist.print_list()"
   ]
  },
  {
   "cell_type": "code",
   "execution_count": null,
   "metadata": {},
   "outputs": [],
   "source": [
    "class Node:\n",
    "    def __init__(self):\n",
    "        "
   ]
  }
 ],
 "metadata": {
  "kernelspec": {
   "display_name": "Python 3",
   "language": "python",
   "name": "python3"
  },
  "language_info": {
   "codemirror_mode": {
    "name": "ipython",
    "version": 3
   },
   "file_extension": ".py",
   "mimetype": "text/x-python",
   "name": "python",
   "nbconvert_exporter": "python",
   "pygments_lexer": "ipython3",
   "version": "3.7.3"
  }
 },
 "nbformat": 4,
 "nbformat_minor": 2
}
