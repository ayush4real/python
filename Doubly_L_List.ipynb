{
 "cells": [
  {
   "cell_type": "code",
   "execution_count": 7,
   "metadata": {},
   "outputs": [
    {
     "name": "stdout",
     "output_type": "stream",
     "text": [
      "A\n",
      "B\n",
      "C\n",
      "D\n",
      "E\n"
     ]
    }
   ],
   "source": [
    "class Node:\n",
    "    def __init__(self,data):\n",
    "        self.data=data\n",
    "        self.next=None\n",
    "        self.prev=None\n",
    "\n",
    "class DoublyLinkedList:\n",
    "    def __init__(self):\n",
    "        self.head=None\n",
    "        \n",
    "    def append(self,data):\n",
    "        if self.head is None:\n",
    "            new_node=Node(data)\n",
    "            new_node.prev=None\n",
    "            self.head=new_node\n",
    "        else:\n",
    "            new_node=Node(data)\n",
    "            cur=self.head\n",
    "            while cur.next:\n",
    "                cur=cur.next\n",
    "            cur.next=new_node\n",
    "            new_node.prev=cur\n",
    "            new_node.next=None\n",
    "    \n",
    "    def print_list(self):\n",
    "        cur=self.head\n",
    "        while cur:\n",
    "            print(cur.data)\n",
    "            cur=cur.next\n",
    "                \n",
    "dllist=DoublyLinkedList()\n",
    "dllist.append(\"A\")\n",
    "dllist.append(\"B\")\n",
    "dllist.append(\"C\")\n",
    "dllist.append(\"D\")\n",
    "dllist.append(\"E\")\n",
    "dllist.print_list()"
   ]
  },
  {
   "cell_type": "code",
   "execution_count": null,
   "metadata": {},
   "outputs": [],
   "source": []
  }
 ],
 "metadata": {
  "kernelspec": {
   "display_name": "Python 3",
   "language": "python",
   "name": "python3"
  },
  "language_info": {
   "codemirror_mode": {
    "name": "ipython",
    "version": 3
   },
   "file_extension": ".py",
   "mimetype": "text/x-python",
   "name": "python",
   "nbconvert_exporter": "python",
   "pygments_lexer": "ipython3",
   "version": "3.7.3"
  }
 },
 "nbformat": 4,
 "nbformat_minor": 2
}
