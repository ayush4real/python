{
 "cells": [
  {
   "cell_type": "code",
   "execution_count": 1,
   "metadata": {},
   "outputs": [
    {
     "name": "stdout",
     "output_type": "stream",
     "text": [
      "kjihgfedcb\n"
     ]
    }
   ],
   "source": [
    "L='abcdefghijk'\n",
    "print(L[-1:0:-1])"
   ]
  },
  {
   "cell_type": "code",
   "execution_count": 8,
   "metadata": {},
   "outputs": [
    {
     "name": "stdout",
     "output_type": "stream",
     "text": [
      "0\n"
     ]
    }
   ],
   "source": [
    "def reverse(x):\n",
    "    x=str(x)\n",
    "    if x[0]=='-':\n",
    "        a=int('-'+x[-1:0:-1])\n",
    "        if a>=-2147483648 and a<=2147483647:\n",
    "            return a\n",
    "        else:\n",
    "            return 0\n",
    "    else:\n",
    "        a=int(x[::-1])\n",
    "        if a>=-2147483648 and a<=2147483647:\n",
    "            return a\n",
    "        else:\n",
    "            return 0\n",
    "print(reverse(-2896754267353))"
   ]
  },
  {
   "cell_type": "code",
   "execution_count": 64,
   "metadata": {},
   "outputs": [
    {
     "ename": "SyntaxError",
     "evalue": "invalid syntax (<ipython-input-64-9b9bd1a13fe3>, line 6)",
     "output_type": "error",
     "traceback": [
      "\u001b[1;36m  File \u001b[1;32m\"<ipython-input-64-9b9bd1a13fe3>\"\u001b[1;36m, line \u001b[1;32m6\u001b[0m\n\u001b[1;33m    elif a==x:\u001b[0m\n\u001b[1;37m       ^\u001b[0m\n\u001b[1;31mSyntaxError\u001b[0m\u001b[1;31m:\u001b[0m invalid syntax\n"
     ]
    }
   ],
   "source": [
    "def palinCheck(x):\n",
    "    if x<0 or x>7463847412:\n",
    "        return False\n",
    "    x=str(x)\n",
    "    a=x[::-1]\n",
    "    if a==x:\n",
    "        return True\n",
    "    else:\n",
    "        return False\n",
    "#print(palinCheck(12321))\n",
    "\n",
    "def palinCheck1(x):\n",
    "    x=str(x)\n",
    "    left=0\n",
    "    right=len(x)-1\n",
    "    while left<right:\n",
    "        if x[left]!=x[right]:\n",
    "            return False\n",
    "        left+=1\n",
    "        right-=1\n",
    "    return True\n",
    "    \n",
    "print(palinCheck(3443))"
   ]
  },
  {
   "cell_type": "code",
   "execution_count": null,
   "metadata": {},
   "outputs": [],
   "source": []
  },
  {
   "cell_type": "code",
   "execution_count": null,
   "metadata": {},
   "outputs": [],
   "source": []
  },
  {
   "cell_type": "code",
   "execution_count": 56,
   "metadata": {},
   "outputs": [
    {
     "name": "stdout",
     "output_type": "stream",
     "text": [
      "False\n"
     ]
    }
   ],
   "source": [
    "'''def reverse_1(x):\n",
    "    num=x\n",
    "    rev=0\n",
    "    if x<0:\n",
    "        return False\n",
    "    else:\n",
    "        while x!=0:\n",
    "            rem=x%10\n",
    "            rev=rev*10+rem\n",
    "            x=x//10\n",
    "        if rev<=2147483647:\n",
    "            return rev==num\n",
    "        else:\n",
    "            return False\n",
    "print(reverse_1(-12121212121))\n",
    "'''"
   ]
  }
 ],
 "metadata": {
  "kernelspec": {
   "display_name": "Python 3",
   "language": "python",
   "name": "python3"
  },
  "language_info": {
   "codemirror_mode": {
    "name": "ipython",
    "version": 3
   },
   "file_extension": ".py",
   "mimetype": "text/x-python",
   "name": "python",
   "nbconvert_exporter": "python",
   "pygments_lexer": "ipython3",
   "version": "3.7.3"
  }
 },
 "nbformat": 4,
 "nbformat_minor": 2
}
