{
 "cells": [
  {
   "cell_type": "code",
   "execution_count": 1,
   "metadata": {},
   "outputs": [],
   "source": [
    "%run Stack.ipynb"
   ]
  },
  {
   "cell_type": "code",
   "execution_count": 6,
   "metadata": {},
   "outputs": [
    {
     "name": "stdout",
     "output_type": "stream",
     "text": [
      "True\n"
     ]
    }
   ],
   "source": [
    "def is_para_balanced(paren_string):\n",
    "    s=Stack()\n",
    "    is_balanced=True\n",
    "    index=0\n",
    "    \n",
    "    while index<len(paren_string) and is_balanced:\n",
    "        paren=paren_string[index]\n",
    "        if paren in \"([{\":\n",
    "            s.push(paren)\n",
    "        else:\n",
    "            if s.is_empty():\n",
    "                is_balanced=False\n",
    "            else:\n",
    "                top=s.pop()\n",
    "                if not is_match(top,paren):\n",
    "                    is_balanced=False\n",
    "        index+=1\n",
    "        \n",
    "    if s.is_empty() and is_balanced:\n",
    "        return True\n",
    "    else:\n",
    "        return False\n",
    "\n",
    "def is_match(p1,p2):\n",
    "    if p1==\"(\" and p2==\")\":\n",
    "        return True\n",
    "    elif p1==\"[\" and p2==\"]\":\n",
    "        return True\n",
    "    elif p1==\"{\" and p2==\"}\":\n",
    "        return True\n",
    "    else:\n",
    "        return False\n",
    "\n",
    "print(is_para_balanced(\"{([])}\"))\n",
    "    \n",
    "    \n",
    "    \n",
    "    \n",
    "    "
   ]
  }
 ],
 "metadata": {
  "kernelspec": {
   "display_name": "Python 3",
   "language": "python",
   "name": "python3"
  },
  "language_info": {
   "codemirror_mode": {
    "name": "ipython",
    "version": 3
   },
   "file_extension": ".py",
   "mimetype": "text/x-python",
   "name": "python",
   "nbconvert_exporter": "python",
   "pygments_lexer": "ipython3",
   "version": "3.7.3"
  }
 },
 "nbformat": 4,
 "nbformat_minor": 2
}
