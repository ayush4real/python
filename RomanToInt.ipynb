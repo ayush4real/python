{
 "cells": [
  {
   "cell_type": "code",
   "execution_count": 87,
   "metadata": {},
   "outputs": [
    {
     "name": "stdout",
     "output_type": "stream",
     "text": [
      "1994\n"
     ]
    }
   ],
   "source": [
    "def romanToInt(x):\n",
    "    ans=0\n",
    "    curr=0\n",
    "    prev=0\n",
    "    nums={'I':1,'V':5,'X':10,'L':50,'C':100,'D':500,'M':1000}\n",
    "    for i in range(len(x)):\n",
    "        curr=nums[x[i]]\n",
    "        if curr>prev:\n",
    "            ans+=curr-(2*prev)\n",
    "        else:\n",
    "            ans+=curr\n",
    "        prev=curr\n",
    "    return ans\n",
    "\n",
    "print(romanToInt('MCMXCIV'))"
   ]
  },
  {
   "cell_type": "code",
   "execution_count": 42,
   "metadata": {},
   "outputs": [
    {
     "name": "stdout",
     "output_type": "stream",
     "text": [
      "a3b3c1d1e1f1g2\n"
     ]
    }
   ],
   "source": [
    "def freqCount(x):\n",
    "    str1 = str(x)\n",
    "    str1=sorted(str1)\n",
    "    count = {} \n",
    "\n",
    "    for i in str1: \n",
    "        if i in count: \n",
    "            count[i] += 1\n",
    "        else: \n",
    "            count[i] = 1 \n",
    "    arr=[]\n",
    "    for i in count:\n",
    "        arr.append(str(i))\n",
    "        arr.append(str(count[i]))\n",
    "    a=\"\"\n",
    "    a=a.join(arr)\n",
    "    print(a) \n",
    "\n",
    "    \n",
    "freqCount('abababefggdc')"
   ]
  },
  {
   "cell_type": "code",
   "execution_count": 49,
   "metadata": {},
   "outputs": [
    {
     "name": "stdout",
     "output_type": "stream",
     "text": [
      "[-0.293, -1.707]\n"
     ]
    }
   ],
   "source": [
    "def roots(a,b,c):\n",
    "    arr=[ ]\n",
    "    d=-b+(((b**2)-(4*a*c))**0.5)\n",
    "    x1=round((d/(2*a)),3)\n",
    "    \n",
    "    d=-b-(((b**2)-(4*a*c))**0.5)\n",
    "    x2=round((d/(2*a)),3)\n",
    "    arr.append(x1)\n",
    "    arr.append(x2)\n",
    "    return arr\n",
    "    \n",
    "print(roots(2,4,1))\n"
   ]
  },
  {
   "cell_type": "code",
   "execution_count": 98,
   "metadata": {},
   "outputs": [
    {
     "name": "stdout",
     "output_type": "stream",
     "text": [
      "20\n"
     ]
    }
   ],
   "source": [
    "def romanToInt_one(x):\n",
    "    ans=0\n",
    "    roman={'I':1,'V':5,'X':10,'L':50,'C':100,'D':500,'M':1000}\n",
    "    for i in range(0,len(x)-1):\n",
    "        curr_n=roman[x[i]]\n",
    "        next_n=roman[x[i+1]]\n",
    "        if next_n:\n",
    "            if curr_n>=next_n:\n",
    "                ans+=curr_n\n",
    "            elif curr_n<next_n:\n",
    "                ans+=next_n-curr_n\n",
    "                i+=1\n",
    "        else:\n",
    "            ans+=curr_n\n",
    "    return ans\n",
    "\n",
    "print(romanToInt_one('XXV'))"
   ]
  },
  {
   "cell_type": "code",
   "execution_count": 101,
   "metadata": {},
   "outputs": [
    {
     "name": "stdout",
     "output_type": "stream",
     "text": [
      "3\n",
      "150\n"
     ]
    }
   ],
   "source": [
    "class Solution(object):\n",
    "    def romanToInt(self, s):\n",
    "        roman = {'I':1,'V':5,'X':10,'L':50,'C':100,'D':500,'M':1000,'IV':4,'IX':9,'XL':40,'XC':90,'CD':400,'CM':900}\n",
    "        i = 0\n",
    "        num = 0\n",
    "        while i < len(s):\n",
    "            if i+1<len(s) and s[i:i+2] in roman:\n",
    "                num+=roman[s[i:i+2]]\n",
    "                i+=2\n",
    "            else:\n",
    "                num+=roman[s[i]]\n",
    "                i+=1\n",
    "        return num\n",
    "ob1 = Solution()\n",
    "print(ob1.romanToInt(\"III\"))\n",
    "print(ob1.romanToInt(\"CL\"))"
   ]
  }
 ],
 "metadata": {
  "kernelspec": {
   "display_name": "Python 3",
   "language": "python",
   "name": "python3"
  },
  "language_info": {
   "codemirror_mode": {
    "name": "ipython",
    "version": 3
   },
   "file_extension": ".py",
   "mimetype": "text/x-python",
   "name": "python",
   "nbconvert_exporter": "python",
   "pygments_lexer": "ipython3",
   "version": "3.7.3"
  }
 },
 "nbformat": 4,
 "nbformat_minor": 2
}
