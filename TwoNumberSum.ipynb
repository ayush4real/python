{
 "cells": [
  {
   "cell_type": "code",
   "execution_count": 2,
   "metadata": {},
   "outputs": [
    {
     "name": "stdout",
     "output_type": "stream",
     "text": [
      "[4, 6]\n"
     ]
    }
   ],
   "source": [
    "def two_number_sum(list,target_sum):\n",
    "    for i in range(len(list)-1):\n",
    "        num1=list[i]\n",
    "        for j in range(i+1,len(list)):\n",
    "            num2=list[j]\n",
    "            if num1+num2==target_sum:\n",
    "                return [num1,num2]\n",
    "    return []\n",
    "\n",
    "def two_number_sum1(list,target_sum):\n",
    "    nums={}\n",
    "    for num in list:\n",
    "        potential_match=target_sum - num\n",
    "        if potential_match in nums:\n",
    "            return [potential_match,num]\n",
    "        else:\n",
    "            nums[num] = True\n",
    "    return []\n",
    "\n",
    "def two_number_sum2(list,target_sum):\n",
    "    list.sort()\n",
    "    left=0\n",
    "    right= len(list)-1\n",
    "    while left < right:\n",
    "        current_sum = list[left]+list[right]\n",
    "        if current_sum==target_sum:\n",
    "            return [list[left],list[right]]\n",
    "        elif current_sum< target_sum:\n",
    "            left+=1\n",
    "        elif current_sum>target_sum:\n",
    "            right-=1\n",
    "    return []\n",
    "\n",
    "\n",
    "print(two_number_sum1([1,2,3,4,5,6,7,8,9],10))"
   ]
  },
  {
   "cell_type": "code",
   "execution_count": null,
   "metadata": {},
   "outputs": [],
   "source": []
  },
  {
   "cell_type": "code",
   "execution_count": null,
   "metadata": {},
   "outputs": [],
   "source": []
  }
 ],
 "metadata": {
  "kernelspec": {
   "display_name": "Python 3",
   "language": "python",
   "name": "python3"
  },
  "language_info": {
   "codemirror_mode": {
    "name": "ipython",
    "version": 3
   },
   "file_extension": ".py",
   "mimetype": "text/x-python",
   "name": "python",
   "nbconvert_exporter": "python",
   "pygments_lexer": "ipython3",
   "version": "3.7.3"
  }
 },
 "nbformat": 4,
 "nbformat_minor": 2
}
